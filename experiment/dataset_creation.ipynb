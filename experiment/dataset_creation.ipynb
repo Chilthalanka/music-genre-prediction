{
 "cells": [
  {
   "attachments": {},
   "cell_type": "markdown",
   "metadata": {},
   "source": [
    "### Import Libraries"
   ]
  },
  {
   "cell_type": "code",
   "execution_count": 1,
   "metadata": {},
   "outputs": [],
   "source": [
    "import re\n",
    "import yaml\n",
    "import pandas as pd\n",
    "from lyricsgenius import Genius\n",
    "from lyricsgenius.song import Song"
   ]
  },
  {
   "attachments": {},
   "cell_type": "markdown",
   "metadata": {},
   "source": [
    "### Data Extraction"
   ]
  },
  {
   "cell_type": "code",
   "execution_count": null,
   "metadata": {},
   "outputs": [],
   "source": [
    "# Get Genius API credentials\n",
    "with open(\"../config/genius-credentials.yml\") as file:\n",
    "    # Load YAML data\n",
    "    config = yaml.load(file, Loader=yaml.FullLoader)"
   ]
  },
  {
   "cell_type": "code",
   "execution_count": null,
   "metadata": {},
   "outputs": [],
   "source": [
    "genius = Genius(config[\"CLIENT-ACCESS-TOKEN\"], timeout=7200)"
   ]
  },
  {
   "attachments": {},
   "cell_type": "markdown",
   "metadata": {},
   "source": [
    "##### Get songs in \"retro\" genre - Method 1"
   ]
  },
  {
   "cell_type": "code",
   "execution_count": null,
   "metadata": {},
   "outputs": [],
   "source": [
    "page = 1\n",
    "retro_songs_df = pd.DataFrame(columns=['url', 'title_with_artists', 'title', 'artists', 'featured_artists', 'num_artists', 'lyrics', 'release_date'])\n",
    "\n",
    "for page_num in range(10):\n",
    "    print(\"\\n\\nReading page {}...\".format(page))\n",
    "    res = genius.tag('retro', page=page)\n",
    "    \n",
    "    temp_df = pd.DataFrame(res['hits'])\n",
    "    temp_df['num_artists'] = temp_df['artists'].apply(len)\n",
    "    \n",
    "    for indx, hit in enumerate(res['hits']):\n",
    "        try:\n",
    "            print(\"\\nExtracting details of song {}: {}\".format(indx, hit['title']))\n",
    "            song_lyrics = genius.lyrics(song_url=hit['url'])\n",
    "            temp_df.loc[temp_df['url']==hit['url'], ['lyrics']] = song_lyrics\n",
    "            \n",
    "            song_response = genius.search_songs(search_term=hit['title'])\n",
    "            song_response_title = song_response['hits'][0]['result']['title']\n",
    "            song_response_artist = song_response['hits'][0]['result']['primary_artist']['name']\n",
    "            \n",
    "            if (song_response_title==hit['title']) and (song_response_artist==hit['artists'][0]):\n",
    "                print(\"\\t Title and primary artist match: SUCCESSFUL\")\n",
    "                temp_df.loc[temp_df['url']==song_response['hits'][0]['result']['url'], ['release_date']] = song_response['hits'][0]['result']['release_date_components']['year']\n",
    "            else:\n",
    "                print(\"\\t Title and primary artist match: FAILED\")\n",
    "            \n",
    "        except Exception as e:\n",
    "            print(str(e))\n",
    "    \n",
    "    retro_songs_df = pd.concat([retro_songs_df, temp_df], ignore_index=True)\n",
    "    \n",
    "    page = res['next_page']"
   ]
  },
  {
   "cell_type": "code",
   "execution_count": null,
   "metadata": {},
   "outputs": [],
   "source": [
    "retro_songs_df.head(5)"
   ]
  },
  {
   "cell_type": "code",
   "execution_count": null,
   "metadata": {},
   "outputs": [],
   "source": [
    "retro_songs_df.to_csv(\"../data/retro_songs.csv\", index=False)"
   ]
  },
  {
   "cell_type": "code",
   "execution_count": null,
   "metadata": {},
   "outputs": [],
   "source": [
    "retro_songs_df.isnull().sum()"
   ]
  },
  {
   "attachments": {},
   "cell_type": "markdown",
   "metadata": {},
   "source": [
    "##### Get songs in \"retro\" genre - Method 2"
   ]
  },
  {
   "cell_type": "code",
   "execution_count": null,
   "metadata": {},
   "outputs": [],
   "source": [
    "genre = 'retro'\n",
    "page = 1\n",
    "retro_songs_df = pd.DataFrame(columns=['url', 'title_with_artists', 'title', 'artists', 'featured_artists', 'num_artists', 'genre', 'lyrics', 'release_date', 'primary_artist'])\n",
    "\n",
    "for page_num in range(30):\n",
    "    print(\"\\n\\nReading page {}...\".format(page))\n",
    "    res = genius.tag(genre, page=page)\n",
    "    \n",
    "    temp_df = pd.DataFrame(res['hits'])\n",
    "    temp_df['num_artists'] = temp_df['artists'].apply(len)\n",
    "    temp_df['genre'] = genre\n",
    "    \n",
    "    for indx, hit in enumerate(res['hits']):\n",
    "        try:\n",
    "            print(\"\\n\\nExtracting details of song {}: {}\".format(indx, hit['title']))\n",
    "            # Validate the title, artist and language\n",
    "            songs_response = genius.search_songs(search_term=hit['title'])\n",
    "            for song in songs_response['hits']:\n",
    "                if (song['result']['title']==hit['title']) and (song['result']['url']==hit['url']) and (song['result']['language']==\"en\"):\n",
    "                    print(\"Valid English song found!\")\n",
    "                    released_year_from_songs_api = song['result']['release_date_components']['year']\n",
    "                    search_song_response = genius.search_song(hit['title'], get_full_info=True)\n",
    "                    song_id = search_song_response.id\n",
    "                    lyrics = search_song_response.lyrics\n",
    "                    if lyrics.strip():\n",
    "                        # Split each line to a list and remove the first line\n",
    "                        lines = lyrics.splitlines()[1:]\n",
    "\n",
    "                        # Remove empty lines\n",
    "                        lines = [line for line in lines if line.strip()]\n",
    "\n",
    "                        # Remove whole line where it contains '[]' brackets and some alphanumeric characters inside the []\n",
    "                        lines = [line for line in lines if not re.match(r'(^.*\\[\\w+\\].*$)|(\\[.*\\])', line)]\n",
    "\n",
    "                        # Join the remaining lines back into a single string\n",
    "                        modified_lyrics = ' '.join(lines)\n",
    "                    else:\n",
    "                        modified_lyrics = ''\n",
    "                    if song_id:\n",
    "                        print(\"Song ID: {}\".format(song_id))\n",
    "                        song_response = genius.song(song_id=song_id)\n",
    "                        song_response_details = Song(song_response)\n",
    "\n",
    "                        if hit['url']==song_response_details.url:\n",
    "                            print(\"URLs are matching!\")\n",
    "                            temp_df.loc[temp_df['url']==hit['url'], ['lyrics']] = modified_lyrics\n",
    "                            temp_df.loc[temp_df['url']==hit['url'], ['release_date']] = int(released_year_from_songs_api) or int(song_response_details.year[:4])\n",
    "                            temp_df.loc[temp_df['url']==hit['url'], ['primary_artist']] = song_response_details.artist\n",
    "                        else:\n",
    "                            print(\"URLs are NOT matching!\")\n",
    "                    else:\n",
    "                        print(\"No valid song ID found!\")\n",
    "                    break\n",
    "                else:\n",
    "                    print(\"Not an English song!\")\n",
    "        except Exception as e:\n",
    "            print(str(e))\n",
    "    \n",
    "    retro_songs_df = pd.concat([retro_songs_df, temp_df], ignore_index=True)\n",
    "    \n",
    "    page = res['next_page']"
   ]
  },
  {
   "cell_type": "code",
   "execution_count": null,
   "metadata": {},
   "outputs": [],
   "source": [
    "retro_songs_df.head(20)"
   ]
  },
  {
   "cell_type": "code",
   "execution_count": null,
   "metadata": {},
   "outputs": [],
   "source": [
    "final_cols = ['artist_name', 'track_name', 'release_date', 'genre', 'lyrics']\n",
    "\n",
    "retro_songs_df.rename(columns={'title': 'track_name', 'primary_artist': 'artist_name'}, inplace=True)\n",
    "\n",
    "students_dataset_df = retro_songs_df[final_cols]\n",
    "students_dataset_df = students_dataset_df[students_dataset_df.notnull().all(axis=1)]\n",
    "\n",
    "students_dataset_df.drop_duplicates(subset=['artist_name', 'track_name'], keep='first', inplace=True)\n",
    "\n",
    "students_dataset_df.to_csv(\"../data/Student_dataset.csv\", index=False)"
   ]
  },
  {
   "attachments": {},
   "cell_type": "markdown",
   "metadata": {},
   "source": [
    "##### Get songs in \"soul\" genre - Method 1"
   ]
  },
  {
   "cell_type": "code",
   "execution_count": null,
   "metadata": {},
   "outputs": [],
   "source": [
    "genre = 'soul'\n",
    "page = 1\n",
    "retro_songs_df = pd.DataFrame(columns=['url', 'title_with_artists', 'title', 'artists', 'featured_artists', 'num_artists', 'genre', 'lyrics', 'release_date', 'primary_artist'])\n",
    "\n",
    "for page_num in range(30):\n",
    "    print(\"\\n\\nReading page {}...\".format(page))\n",
    "    res = genius.tag(genre, page=page)\n",
    "    \n",
    "    temp_df = pd.DataFrame(res['hits'])\n",
    "    temp_df['num_artists'] = temp_df['artists'].apply(len)\n",
    "    temp_df['genre'] = genre\n",
    "    \n",
    "    for indx, hit in enumerate(res['hits']):\n",
    "        try:\n",
    "            print(\"\\n\\nExtracting details of song {}: {}\".format(indx, hit['title']))\n",
    "            # Validate the title, artist and language\n",
    "            songs_response = genius.search_songs(search_term=hit['title'])\n",
    "            for song in songs_response['hits']:\n",
    "                if (song['result']['title']==hit['title']) and (song['result']['url']==hit['url']) and (song['result']['language']==\"en\"):\n",
    "                    print(\"Valid English song found!\")\n",
    "                    released_year_from_songs_api = song['result']['release_date_components']['year']\n",
    "                    search_song_response = genius.search_song(hit['title'], get_full_info=True)\n",
    "                    song_id = search_song_response.id\n",
    "                    lyrics = search_song_response.lyrics\n",
    "                    if lyrics.strip():\n",
    "                        # Split each line to a list and remove the first line\n",
    "                        lines = lyrics.splitlines()[1:]\n",
    "\n",
    "                        # Remove empty lines\n",
    "                        lines = [line for line in lines if line.strip()]\n",
    "\n",
    "                        # Remove whole line where it contains '[]' brackets and some alphanumeric characters inside the []\n",
    "                        lines = [line for line in lines if not re.match(r'(^.*\\[\\w+\\].*$)|(\\[.*\\])', line)]\n",
    "\n",
    "                        # Join the remaining lines back into a single string\n",
    "                        modified_lyrics = ' '.join(lines)\n",
    "                    else:\n",
    "                        modified_lyrics = ''\n",
    "                    if song_id:\n",
    "                        print(\"Song ID: {}\".format(song_id))\n",
    "                        song_response = genius.song(song_id=song_id)\n",
    "                        song_response_details = Song(song_response)\n",
    "\n",
    "                        if hit['url']==song_response_details.url:\n",
    "                            print(\"URLs are matching!\")\n",
    "                            temp_df.loc[temp_df['url']==hit['url'], ['lyrics']] = modified_lyrics\n",
    "                            temp_df.loc[temp_df['url']==hit['url'], ['release_date']] = int(released_year_from_songs_api) or int(song_response_details.year[:4])\n",
    "                            temp_df.loc[temp_df['url']==hit['url'], ['primary_artist']] = song_response_details.artist\n",
    "                        else:\n",
    "                            print(\"URLs are NOT matching!\")\n",
    "                    else:\n",
    "                        print(\"No valid song ID found!\")\n",
    "                    break\n",
    "                else:\n",
    "                    print(\"Not an English song!\")\n",
    "        except Exception as e:\n",
    "            print(str(e))\n",
    "    \n",
    "    retro_songs_df = pd.concat([retro_songs_df, temp_df], ignore_index=True)\n",
    "    \n",
    "    page = res['next_page']"
   ]
  },
  {
   "cell_type": "code",
   "execution_count": null,
   "metadata": {},
   "outputs": [],
   "source": [
    "retro_songs_df.head(20)"
   ]
  },
  {
   "cell_type": "code",
   "execution_count": null,
   "metadata": {},
   "outputs": [],
   "source": [
    "final_cols = ['artist_name', 'track_name', 'release_date', 'genre', 'lyrics']\n",
    "\n",
    "retro_songs_df.rename(columns={'title': 'track_name', 'primary_artist': 'artist_name'}, inplace=True)\n",
    "\n",
    "students_dataset_df = retro_songs_df[final_cols]\n",
    "students_dataset_df = students_dataset_df[students_dataset_df.notnull().all(axis=1)]\n",
    "\n",
    "students_dataset_df.drop_duplicates(subset=['artist_name', 'track_name'], keep='first', inplace=True)\n",
    "\n",
    "students_dataset_df.to_csv(\"../data/Student_dataset_Shadhini.csv\", index=False)"
   ]
  },
  {
   "attachments": {},
   "cell_type": "markdown",
   "metadata": {},
   "source": [
    "##### Create merged dataset"
   ]
  },
  {
   "cell_type": "code",
   "execution_count": 20,
   "metadata": {},
   "outputs": [
    {
     "name": "stdout",
     "output_type": "stream",
     "text": [
      "shape: (28372, 5)\n",
      "\n"
     ]
    },
    {
     "data": {
      "text/html": [
       "<div>\n",
       "<style scoped>\n",
       "    .dataframe tbody tr th:only-of-type {\n",
       "        vertical-align: middle;\n",
       "    }\n",
       "\n",
       "    .dataframe tbody tr th {\n",
       "        vertical-align: top;\n",
       "    }\n",
       "\n",
       "    .dataframe thead th {\n",
       "        text-align: right;\n",
       "    }\n",
       "</style>\n",
       "<table border=\"1\" class=\"dataframe\">\n",
       "  <thead>\n",
       "    <tr style=\"text-align: right;\">\n",
       "      <th></th>\n",
       "      <th>artist_name</th>\n",
       "      <th>track_name</th>\n",
       "      <th>release_date</th>\n",
       "      <th>genre</th>\n",
       "      <th>lyrics</th>\n",
       "    </tr>\n",
       "  </thead>\n",
       "  <tbody>\n",
       "    <tr>\n",
       "      <th>0</th>\n",
       "      <td>mukesh</td>\n",
       "      <td>mohabbat bhi jhoothi</td>\n",
       "      <td>1950</td>\n",
       "      <td>pop</td>\n",
       "      <td>hold time feel break feel untrue convince spea...</td>\n",
       "    </tr>\n",
       "    <tr>\n",
       "      <th>1</th>\n",
       "      <td>frankie laine</td>\n",
       "      <td>i believe</td>\n",
       "      <td>1950</td>\n",
       "      <td>pop</td>\n",
       "      <td>believe drop rain fall grow believe darkest ni...</td>\n",
       "    </tr>\n",
       "    <tr>\n",
       "      <th>2</th>\n",
       "      <td>johnnie ray</td>\n",
       "      <td>cry</td>\n",
       "      <td>1950</td>\n",
       "      <td>pop</td>\n",
       "      <td>sweetheart send letter goodbye secret feel bet...</td>\n",
       "    </tr>\n",
       "    <tr>\n",
       "      <th>3</th>\n",
       "      <td>pérez prado</td>\n",
       "      <td>patricia</td>\n",
       "      <td>1950</td>\n",
       "      <td>pop</td>\n",
       "      <td>kiss lips want stroll charm mambo chacha merin...</td>\n",
       "    </tr>\n",
       "    <tr>\n",
       "      <th>4</th>\n",
       "      <td>giorgos papadopoulos</td>\n",
       "      <td>apopse eida oneiro</td>\n",
       "      <td>1950</td>\n",
       "      <td>pop</td>\n",
       "      <td>till darling till matter know till dream live ...</td>\n",
       "    </tr>\n",
       "  </tbody>\n",
       "</table>\n",
       "</div>"
      ],
      "text/plain": [
       "            artist_name            track_name  release_date genre   \n",
       "0                mukesh  mohabbat bhi jhoothi          1950   pop  \\\n",
       "1         frankie laine             i believe          1950   pop   \n",
       "2           johnnie ray                   cry          1950   pop   \n",
       "3           pérez prado              patricia          1950   pop   \n",
       "4  giorgos papadopoulos    apopse eida oneiro          1950   pop   \n",
       "\n",
       "                                              lyrics  \n",
       "0  hold time feel break feel untrue convince spea...  \n",
       "1  believe drop rain fall grow believe darkest ni...  \n",
       "2  sweetheart send letter goodbye secret feel bet...  \n",
       "3  kiss lips want stroll charm mambo chacha merin...  \n",
       "4  till darling till matter know till dream live ...  "
      ]
     },
     "execution_count": 20,
     "metadata": {},
     "output_type": "execute_result"
    }
   ],
   "source": [
    "mendeley_df = pd.read_csv(\"../data/mendeley_dataset.csv\")\n",
    "mendeley_df = mendeley_df[['artist_name', 'track_name', 'release_date', 'genre', 'lyrics']]\n",
    "\n",
    "print(\"shape: {}\\n\".format(mendeley_df.shape))\n",
    "\n",
    "mendeley_df.head()"
   ]
  },
  {
   "cell_type": "code",
   "execution_count": 3,
   "metadata": {},
   "outputs": [
    {
     "name": "stdout",
     "output_type": "stream",
     "text": [
      "shape: (436, 5)\n",
      "\n"
     ]
    }
   ],
   "source": [
    "student_df = pd.read_csv(\"../data/Student_dataset_soul_org.csv\")\n",
    "\n",
    "# Pre-process student dataset\n",
    "student_df['lyrics'] = student_df['lyrics'].str.replace(r'(You might also like\\d{1,4}Embed$)|(\\d+Embed$)|(Embed$)', '', regex=True)\n",
    "\n",
    "print(\"shape: {}\\n\".format(student_df.shape))\n",
    "\n",
    "student_df.head()\n",
    "\n",
    "student_df.to_csv(\"../data/Student_dataset_soul_cleaned.csv\", header=True, index=False)"
   ]
  },
  {
   "cell_type": "code",
   "execution_count": 35,
   "metadata": {},
   "outputs": [
    {
     "data": {
      "text/plain": [
       "(28808, 5)"
      ]
     },
     "execution_count": 35,
     "metadata": {},
     "output_type": "execute_result"
    }
   ],
   "source": [
    "merged_df = pd.concat([mendeley_df, student_df], ignore_index=True)\n",
    "\n",
    "merged_df.shape"
   ]
  },
  {
   "cell_type": "code",
   "execution_count": 36,
   "metadata": {},
   "outputs": [],
   "source": [
    "merged_df.to_csv(\"../data/Merged_dataset_soul.csv\", index=False)"
   ]
  },
  {
   "cell_type": "code",
   "execution_count": null,
   "metadata": {},
   "outputs": [],
   "source": []
  }
 ],
 "metadata": {
  "kernelspec": {
   "display_name": "cwij_env",
   "language": "python",
   "name": "python3"
  },
  "language_info": {
   "codemirror_mode": {
    "name": "ipython",
    "version": 3
   },
   "file_extension": ".py",
   "mimetype": "text/x-python",
   "name": "python",
   "nbconvert_exporter": "python",
   "pygments_lexer": "ipython3",
   "version": "3.8.10"
  },
  "orig_nbformat": 4
 },
 "nbformat": 4,
 "nbformat_minor": 2
}
